{
  "nbformat": 4,
  "nbformat_minor": 0,
  "metadata": {
    "colab": {
      "name": "Assignment.ipynb",
      "provenance": []
    },
    "kernelspec": {
      "name": "python3",
      "display_name": "Python 3"
    },
    "language_info": {
      "name": "python"
    }
  },
  "cells": [
    {
      "cell_type": "code",
      "metadata": {
        "colab": {
          "base_uri": "https://localhost:8080/"
        },
        "id": "5KfqDj5m625w",
        "outputId": "162b463e-bdab-427d-94aa-2e9912f2ad5a"
      },
      "source": [
        "List1 = [\"Versace\",\"SuperDry\",\"Cartier\",\"Hermes\"]\n",
        "List2 = [\"Zara\",\"Cartier\",\"Hermes\",\"H&M\"]\n",
        "List = set(List1)\n",
        "intersection = List.intersection(List2)\n",
        "intersection_as_list=list(intersection)\n",
        "print(intersection_as_list)\n"
      ],
      "execution_count": 40,
      "outputs": [
        {
          "output_type": "stream",
          "text": [
            "['Hermes', 'Cartier']\n"
          ],
          "name": "stdout"
        }
      ]
    },
    {
      "cell_type": "code",
      "metadata": {
        "colab": {
          "base_uri": "https://localhost:8080/"
        },
        "id": "ODHEf9C_80r4",
        "outputId": "e1f33c1a-ee87-4c48-cf43-4faaac2727ac"
      },
      "source": [
        "List1 = [\"Versace\",\"SuperDry\",\"Cartier\",\"Hermes\"]\n",
        "List2 = [\"Zara\",\"Cartier\",\"Hermes\",\"H&M\"]\n",
        "print(\"\\nList1 has: \")\n",
        "print(List1)\n",
        "print(\"\\nList2 has: \")\n",
        "print(List2)"
      ],
      "execution_count": 39,
      "outputs": [
        {
          "output_type": "stream",
          "text": [
            "\n",
            "List1 has: \n",
            "['Versace', 'SuperDry', 'Cartier', 'Hermes']\n",
            "\n",
            "List2 has: \n",
            "['Zara', 'Cartier', 'Hermes', 'H&M']\n"
          ],
          "name": "stdout"
        }
      ]
    },
    {
      "cell_type": "code",
      "metadata": {
        "colab": {
          "base_uri": "https://localhost:8080/"
        },
        "id": "-BrZ0yfCBQCB",
        "outputId": "f3bdcdbf-9787-4e21-ce8d-3d0c4fa737b1"
      },
      "source": [
        "start, end = 20, 40\n",
        "for num in range(start, end + 1):\n",
        "  if num % 2 == 0:\n",
        "    print (num, end = \" \")"
      ],
      "execution_count": 41,
      "outputs": [
        {
          "output_type": "stream",
          "text": [
            "20 22 24 26 28 30 32 34 36 38 40 "
          ],
          "name": "stdout"
        }
      ]
    }
  ]
}